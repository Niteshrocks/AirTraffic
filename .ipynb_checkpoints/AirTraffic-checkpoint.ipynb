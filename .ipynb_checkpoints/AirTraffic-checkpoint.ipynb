{
 "cells": [
  {
   "cell_type": "code",
   "execution_count": 1,
   "metadata": {},
   "outputs": [],
   "source": [
    "import numpy as np\n",
    "import pandas as pd\n",
    "import matplotlib as mp"
   ]
  },
  {
   "cell_type": "code",
   "execution_count": 6,
   "metadata": {},
   "outputs": [],
   "source": [
    "dfS1=pd.read_excel('AirTrafficData.xlsx',sheet_name='CountrywiseQuarterly')    #DataFrame for Sheet 1 of DataSet\n",
    "dfS2=pd.read_excel('AirTrafficData.xlsx',sheet_name='CitypairwiseQuarterly')   #DataFrame for Sheet 2 of DataSet  \n",
    "dfS3=pd.read_excel('AirTrafficData.xlsx',sheet_name='AirlinewiseMonthly')      #DataFrame for Sheet 3 of DataSet"
   ]
  },
  {
   "cell_type": "markdown",
   "metadata": {},
   "source": [
    "# Q1. Which country carry maximum number of passengers to and from India?"
   ]
  },
  {
   "cell_type": "code",
   "execution_count": 83,
   "metadata": {},
   "outputs": [],
   "source": [
    "df1=dfS1[['COUNTRY NAME','PASSENGERS TO INDIA','PASSENGERS FROM INDIA']].groupby(['COUNTRY NAME'],as_index=False).sum()"
   ]
  },
  {
   "cell_type": "code",
   "execution_count": 101,
   "metadata": {},
   "outputs": [
    {
     "name": "stdout",
     "output_type": "stream",
     "text": [
      "Country Carrying maximum number of passengers to India is UNITED ARAB EMIRATES* with 15045602 passengers\n",
      "Country Carrying maximum number of passengers from India is UNITED ARAB EMIRATES*  with 15398512 passengers\n"
     ]
    }
   ],
   "source": [
    "mx1=df1[df1['PASSENGERS TO INDIA']==df1['PASSENGERS TO INDIA'].max()]\n",
    "mx2=df1[df1['PASSENGERS FROM INDIA']==df1['PASSENGERS FROM INDIA'].max()]\n",
    "print(\"Country Carrying maximum number of passengers to India is {} with {} passengers\".format(mx1['COUNTRY NAME'].to_string(index=False),mx1['PASSENGERS TO INDIA'].to_string(index=False)))\n",
    "print(\"Country Carrying maximum number of passengers from India is {}  with {} passengers\".format(mx2['COUNTRY NAME'].to_string(index=False),mx2['PASSENGERS FROM INDIA'].to_string(index=False)))"
   ]
  },
  {
   "cell_type": "markdown",
   "metadata": {},
   "source": [
    "# Q2. In the year 2015, show the trend of freight from India on the basis of 4 quarters. And compare it with the trend of freight to India."
   ]
  },
  {
   "cell_type": "code",
   "execution_count": null,
   "metadata": {},
   "outputs": [],
   "source": []
  },
  {
   "cell_type": "markdown",
   "metadata": {},
   "source": [
    "# Q3. In 2015, which foreign airlines did not travel to and from India but did in the subsequent year?"
   ]
  },
  {
   "cell_type": "code",
   "execution_count": null,
   "metadata": {},
   "outputs": [],
   "source": []
  },
  {
   "cell_type": "markdown",
   "metadata": {},
   "source": [
    "# Q4. Which foreign airline flight carry maximum number of passengers to and from India?"
   ]
  },
  {
   "cell_type": "code",
   "execution_count": null,
   "metadata": {},
   "outputs": [],
   "source": []
  },
  {
   "cell_type": "markdown",
   "metadata": {},
   "source": [
    "# Q5. Which foreign airlines carries only freight to and from India but no passenger?"
   ]
  },
  {
   "cell_type": "code",
   "execution_count": null,
   "metadata": {},
   "outputs": [],
   "source": []
  },
  {
   "cell_type": "markdown",
   "metadata": {},
   "source": [
    "# Q6. What is the average weight of freight carried out of India in 2016. Compare it with the average weight of freight carried inside India in 2016."
   ]
  },
  {
   "cell_type": "code",
   "execution_count": null,
   "metadata": {},
   "outputs": [],
   "source": []
  },
  {
   "cell_type": "markdown",
   "metadata": {},
   "source": [
    "# Q7. Draw a graph depicting the deviation from mean of freight carried in every quarter in 2015."
   ]
  },
  {
   "cell_type": "code",
   "execution_count": null,
   "metadata": {},
   "outputs": [],
   "source": []
  },
  {
   "cell_type": "markdown",
   "metadata": {},
   "source": [
    "# Q8. Find the correlation between the no. of passengers and the freight."
   ]
  },
  {
   "cell_type": "code",
   "execution_count": null,
   "metadata": {},
   "outputs": [],
   "source": []
  },
  {
   "cell_type": "markdown",
   "metadata": {},
   "source": [
    "# Q9. What is the difference between the no. of passengers going out of India and coming to India in the year 2016? Which one is greater?"
   ]
  },
  {
   "cell_type": "code",
   "execution_count": null,
   "metadata": {},
   "outputs": [],
   "source": []
  },
  {
   "cell_type": "markdown",
   "metadata": {},
   "source": [
    "# Q10. Which foreign airlines did not come to and from India in the year 2015 and 2016?"
   ]
  },
  {
   "cell_type": "code",
   "execution_count": null,
   "metadata": {},
   "outputs": [],
   "source": []
  },
  {
   "cell_type": "markdown",
   "metadata": {},
   "source": [
    "# Q11. Draw a graph depicting the no. of passengers and freight carried in every quarter by the British Airways contrasting the trend in 2015 and 2016."
   ]
  },
  {
   "cell_type": "code",
   "execution_count": null,
   "metadata": {},
   "outputs": [],
   "source": []
  },
  {
   "cell_type": "markdown",
   "metadata": {},
   "source": [
    "# Q12. Using a graph show the percentile of no. of passengers carried out of India of every airline in the year 2015."
   ]
  },
  {
   "cell_type": "code",
   "execution_count": null,
   "metadata": {},
   "outputs": [],
   "source": []
  },
  {
   "cell_type": "code",
   "execution_count": null,
   "metadata": {},
   "outputs": [],
   "source": []
  }
 ],
 "metadata": {
  "kernelspec": {
   "display_name": "Python 3",
   "language": "python",
   "name": "python3"
  },
  "language_info": {
   "codemirror_mode": {
    "name": "ipython",
    "version": 3
   },
   "file_extension": ".py",
   "mimetype": "text/x-python",
   "name": "python",
   "nbconvert_exporter": "python",
   "pygments_lexer": "ipython3",
   "version": "3.7.2"
  }
 },
 "nbformat": 4,
 "nbformat_minor": 2
}
