{
 "cells": [
  {
   "cell_type": "code",
   "execution_count": 1,
   "metadata": {},
   "outputs": [],
   "source": [
    "import numpy as np\n",
    "import pandas as pd\n",
    "import matplotlib as mp"
   ]
  },
  {
   "cell_type": "code",
   "execution_count": 6,
   "metadata": {},
   "outputs": [],
   "source": [
    "dfS1=pd.read_excel('AirTrafficData.xlsx',sheet_name='CountrywiseQuarterly')    #DataFrame for Sheet 1 of DataSet\n",
    "dfS2=pd.read_excel('AirTrafficData.xlsx',sheet_name='CitypairwiseQuarterly')   #DataFrame for Sheet 2 of DataSet  \n",
    "dfS3=pd.read_excel('AirTrafficData.xlsx',sheet_name='AirlinewiseMonthly')      #DataFrame for Sheet 3 of DataSet"
   ]
  },
  {
   "cell_type": "markdown",
   "metadata": {},
   "source": [
    "# Q1. Which foreign flight carry maximum number of passengers to and from India?"
   ]
  },
  {
   "cell_type": "code",
   "execution_count": 53,
   "metadata": {},
   "outputs": [],
   "source": [
    "df1=dfS1[['COUNTRY NAME','PASSENGERS TO INDIA','PASSENGERS FROM INDIA']].groupby('COUNTRY NAME').sum()"
   ]
  },
  {
   "cell_type": "code",
   "execution_count": 52,
   "metadata": {},
   "outputs": [
    {
     "name": "stdout",
     "output_type": "stream",
     "text": [
      "Country Carrying maximum number of passengers to India is 15045602\n",
      "Country Carrying maximum number of passengers from India is 15398512\n"
     ]
    }
   ],
   "source": [
    "mx1=df1.loc[df1['PASSENGERS TO INDIA'].idxmax()]\n",
    "mx2=df1.loc[df1['PASSENGERS FROM INDIA'].idxmax()]\n",
    "print(\"Country Carrying maximum number of passengers to India is {}\".format(mx1[0]))\n",
    "print(\"Country Carrying maximum number of passengers from India is {}\".format(mx2[1]))"
   ]
  },
  {
   "cell_type": "markdown",
   "metadata": {},
   "source": [
    "# Q2. In the year 2015, show the trend of freight from India on the basis of 4 quarters. And compare it with the trend of freight to India.\n"
   ]
  },
  {
   "cell_type": "code",
   "execution_count": null,
   "metadata": {},
   "outputs": [],
   "source": []
  },
  {
   "cell_type": "markdown",
   "metadata": {},
   "source": [
    "# Q3. In 2015, which foreign airlines did not travel to and from India but did in the subsequent year?"
   ]
  },
  {
   "cell_type": "code",
   "execution_count": null,
   "metadata": {},
   "outputs": [],
   "source": []
  },
  {
   "cell_type": "markdown",
   "metadata": {},
   "source": [
    "# Q4. Which foreign airlines carries only freight to and from India but no passenger?"
   ]
  },
  {
   "cell_type": "code",
   "execution_count": null,
   "metadata": {},
   "outputs": [],
   "source": []
  }
 ],
 "metadata": {
  "kernelspec": {
   "display_name": "Python 3",
   "language": "python",
   "name": "python3"
  },
  "language_info": {
   "codemirror_mode": {
    "name": "ipython",
    "version": 3
   },
   "file_extension": ".py",
   "mimetype": "text/x-python",
   "name": "python",
   "nbconvert_exporter": "python",
   "pygments_lexer": "ipython3",
   "version": "3.7.2"
  }
 },
 "nbformat": 4,
 "nbformat_minor": 2
}
